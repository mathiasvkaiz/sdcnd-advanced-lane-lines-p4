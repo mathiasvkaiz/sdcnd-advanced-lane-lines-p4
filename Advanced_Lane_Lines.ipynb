{
 "cells": [
  {
   "cell_type": "markdown",
   "metadata": {},
   "source": [
    "## Advanced Lane Finding Project\n",
    "\n",
    "The goals / steps of this project are the following:\n",
    "\n",
    "* Compute the camera calibration matrix and distortion coefficients given a set of chessboard images.\n",
    "* Apply a distortion correction to raw images.\n",
    "* Use color transforms, gradients, etc., to create a thresholded binary image.\n",
    "* Apply a perspective transform to rectify binary image (\"birds-eye view\").\n",
    "* Detect lane pixels and fit to find the lane boundary.\n",
    "* Determine the curvature of the lane and vehicle position with respect to center.\n",
    "* Warp the detected lane boundaries back onto the original image.\n",
    "* Output visual display of the lane boundaries and numerical estimation of lane curvature and vehicle position."
   ]
  },
  {
   "cell_type": "markdown",
   "metadata": {},
   "source": [
    "## Imports"
   ]
  },
  {
   "cell_type": "code",
   "execution_count": 1,
   "metadata": {
    "collapsed": true
   },
   "outputs": [],
   "source": [
    "import numpy as np\n",
    "import cv2\n",
    "import glob\n",
    "import matplotlib.pyplot as plt\n",
    "import pickle"
   ]
  },
  {
   "cell_type": "markdown",
   "metadata": {},
   "source": [
    "## Global variables"
   ]
  },
  {
   "cell_type": "code",
   "execution_count": 22,
   "metadata": {
    "collapsed": true
   },
   "outputs": [],
   "source": [
    "path_camera_calibration = './camera_cal/'\n",
    "path_test_images = './test_images/'"
   ]
  },
  {
   "cell_type": "markdown",
   "metadata": {},
   "source": [
    "## Calibration"
   ]
  },
  {
   "cell_type": "code",
   "execution_count": 30,
   "metadata": {
    "collapsed": false
   },
   "outputs": [],
   "source": [
    "%matplotlib qt\n",
    "\n",
    "# prepare object points, like (0,0,0), (1,0,0), (2,0,0) ....,(6,5,0)\n",
    "obj_p = np.zeros((6*9, 3), np.float32)\n",
    "obj_p[:, :2] = np.mgrid[0:9, 0:6].T.reshape(-1, 2)\n",
    "\n",
    "# Arrays to store object points and image points from all the images.\n",
    "obj_points = [] # 3d points in real world space\n",
    "img_points = [] # 2d points in image plane.\n",
    "\n",
    "# Make a list of calibration images\n",
    "images_list = glob.glob(path_camera_calibration + 'calibration*.jpg')\n",
    "images = []\n",
    "\n",
    "# Step through the list and search for chessboard corners\n",
    "for fname in images_list:\n",
    "    # Read each image\n",
    "    img = cv2.imread(fname)\n",
    "    \n",
    "    # Convert image to grayscale\n",
    "    gray = cv2.cvtColor(img, cv2.COLOR_BGR2GRAY)\n",
    "\n",
    "    # Find the chessboard corners\n",
    "    ret, corners = cv2.findChessboardCorners(gray, (9,6), None)\n",
    "\n",
    "    # If corners are found, add object points, image points and image to images array\n",
    "    if ret == True:\n",
    "        obj_points.append(obj_p)\n",
    "        img_points.append(corners)\n",
    "\n",
    "        # Draw and display the corners\n",
    "        img = cv2.drawChessboardCorners(img, (9,6), corners, ret)\n",
    "        images.append(img)\n",
    "        \n",
    "        # Visualze drawings\n",
    "        #cv2.imshow('img', img)\n",
    "        #cv2.waitKey(500)\n",
    "        \n",
    "dist_pickle = {}\n",
    "dist_pickle['obj_points'] = obj_points\n",
    "dist_pickle['img_points'] = img_points\n",
    "pickle.dump(dist_pickle, open(path_camera_calibration + 'wide_dist_pickle.p', 'wb'))"
   ]
  },
  {
   "cell_type": "markdown",
   "metadata": {},
   "source": [
    "### Destroy all cv2 windows"
   ]
  },
  {
   "cell_type": "code",
   "execution_count": 19,
   "metadata": {
    "collapsed": true
   },
   "outputs": [],
   "source": [
    "cv2.destroyAllWindows()"
   ]
  },
  {
   "cell_type": "markdown",
   "metadata": {},
   "source": [
    "## Correction for Distortion"
   ]
  },
  {
   "cell_type": "code",
   "execution_count": 31,
   "metadata": {
    "collapsed": false
   },
   "outputs": [],
   "source": [
    "%matplotlib qt\n",
    "\n",
    "# Test undistortion on an image\n",
    "for img in images:\n",
    "    img_size = (img.shape[1], img.shape[0])\n",
    "\n",
    "    # Do camera calibration given object points and image points\n",
    "    ret, mtx, dist, rvecs, tvecs = cv2.calibrateCamera(obj_points, img_points, img_size, None, None)\n",
    "\n",
    "    # Undistort the image\n",
    "    dst = cv2.undistort(img, mtx, dist, None, mtx)\n",
    "    #cv2.imwrite(path_camera_calibration + 'calibration_wide/test_undist.jpg',dst)\n",
    "\n",
    "    # Save the camera calibration result for later use (we won't worry about rvecs / tvecs)\n",
    "    #dist_pickle = {}\n",
    "    #dist_pickle['mtx'] = mtx\n",
    "    #dist_pickle['dist'] = dist\n",
    "    #pickle.dump(dist_pickle, open(path_camera_calibration + 'wide_dist_pickle.p', 'wb'))\n",
    "    #dst = cv2.cvtColor(dst, cv2.COLOR_BGR2RGB)\n",
    "\n",
    "    # Visualize undistortion\n",
    "    #f, (ax1, ax2) = plt.subplots(1, 2, figsize=(20,10))\n",
    "    #ax1.imshow(img)\n",
    "    #ax1.set_title('Original Image', fontsize=30)\n",
    "    #ax2.imshow(dst)\n",
    "    #ax2.set_title('Undistorted Image', fontsize=30)\n"
   ]
  },
  {
   "cell_type": "markdown",
   "metadata": {},
   "source": [
    "### Test calibration"
   ]
  },
  {
   "cell_type": "code",
   "execution_count": 33,
   "metadata": {
    "collapsed": false
   },
   "outputs": [
    {
     "data": {
      "text/plain": [
       "<matplotlib.text.Text at 0x11cda7b38>"
      ]
     },
     "execution_count": 33,
     "metadata": {},
     "output_type": "execute_result"
    }
   ],
   "source": [
    "# Read in the saved objpoints and imgpoints\n",
    "dist_pickle = pickle.load(open(path_camera_calibration + 'wide_dist_pickle.p', 'rb'))\n",
    "obj_points = dist_pickle['obj_points']\n",
    "img_points = dist_pickle['img_points']\n",
    "\n",
    "# Read in an image\n",
    "img = cv2.imread(path_test_images + 'test2.jpg')\n",
    "\n",
    "# performs the camera calibration, image distortion correction and \n",
    "# returns the undistorted image\n",
    "def cal_undistort(img, obj_points, img_points):\n",
    "    # Use cv2.calibrateCamera() and cv2.undistort()\n",
    "    img_size = (img.shape[1], img.shape[0])\n",
    "    retval, cameraMatrix, distCoeffs, rvecs, tvecs = cv2.calibrateCamera(obj_points, img_points, img_size, None, None)\n",
    "    undist = cv2.undistort(img, cameraMatrix, distCoeffs, None, cameraMatrix)\n",
    "    return undist\n",
    "\n",
    "undistorted = cal_undistort(img, obj_points, img_points)\n",
    "\n",
    "f, (ax1, ax2) = plt.subplots(1, 2, figsize=(7, 7))\n",
    "f.tight_layout()\n",
    "ax1.imshow(img)\n",
    "ax1.set_title('Original Image', fontsize=12)\n",
    "ax2.imshow(undistorted)\n",
    "ax2.set_title('Undistorted Image', fontsize=12)\n",
    "#plt.subplots_adjust(left=0., right=1, top=0.9, bottom=0.)"
   ]
  },
  {
   "cell_type": "code",
   "execution_count": null,
   "metadata": {
    "collapsed": true
   },
   "outputs": [],
   "source": []
  }
 ],
 "metadata": {
  "anaconda-cloud": {},
  "kernelspec": {
   "display_name": "Python [conda env:carnd-term1]",
   "language": "python",
   "name": "conda-env-carnd-term1-py"
  },
  "language_info": {
   "codemirror_mode": {
    "name": "ipython",
    "version": 3
   },
   "file_extension": ".py",
   "mimetype": "text/x-python",
   "name": "python",
   "nbconvert_exporter": "python",
   "pygments_lexer": "ipython3",
   "version": "3.5.2"
  }
 },
 "nbformat": 4,
 "nbformat_minor": 1
}
