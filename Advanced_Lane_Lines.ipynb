{
 "cells": [
  {
   "cell_type": "markdown",
   "metadata": {},
   "source": [
    "## Advanced Lane Finding Project\n",
    "\n",
    "The goals / steps of this project are the following:\n",
    "\n",
    "* Compute the camera calibration matrix and distortion coefficients given a set of chessboard images.\n",
    "* Apply a distortion correction to raw images.\n",
    "* Use color transforms, gradients, etc., to create a thresholded binary image.\n",
    "* Apply a perspective transform to rectify binary image (\"birds-eye view\").\n",
    "* Detect lane pixels and fit to find the lane boundary.\n",
    "* Determine the curvature of the lane and vehicle position with respect to center.\n",
    "* Warp the detected lane boundaries back onto the original image.\n",
    "* Output visual display of the lane boundaries and numerical estimation of lane curvature and vehicle position."
   ]
  },
  {
   "cell_type": "markdown",
   "metadata": {},
   "source": [
    "## Imports"
   ]
  },
  {
   "cell_type": "code",
   "execution_count": 1,
   "metadata": {
    "collapsed": true
   },
   "outputs": [],
   "source": [
    "import numpy as np\n",
    "import cv2\n",
    "import glob\n",
    "import matplotlib.pyplot as plt\n",
    "import matplotlib.image as mpimg\n",
    "import pickle\n",
    "import math\n",
    "from PIL import Image\n",
    "from moviepy.editor import VideoFileClip\n",
    "from IPython.display import HTML\n",
    "import os\n",
    "\n",
    "%matplotlib inline\n",
    "#%matplotlib qt"
   ]
  },
  {
   "cell_type": "markdown",
   "metadata": {},
   "source": [
    "## Global variables"
   ]
  },
  {
   "cell_type": "code",
   "execution_count": 2,
   "metadata": {
    "collapsed": false
   },
   "outputs": [],
   "source": [
    "path_camera_calibration = './camera_cal/'\n",
    "path_test_images = './test_images/'\n",
    "path_ouput_images = './output_images/'\n",
    "\n",
    "pickle_file = 'wide_dist_pickle.p'\n",
    "input_video = 'project_video.mp4'\n",
    "\n",
    "# Arrays to store object points and image points from all the images.\n",
    "obj_points = [] # 3d points in real world space\n",
    "img_points = [] # 2d points in image plane.\n",
    "\n",
    "# Make a list of calibration images\n",
    "images_list = glob.glob(path_camera_calibration + 'calibration*.jpg')\n",
    "chessboard_images = []\n",
    "undistorted_images = []\n",
    "\n",
    "# dictionary for creating binary file for calibration data\n",
    "dist_pickle = {}\n",
    "\n",
    "# check for camera calibration directory\n",
    "if not os.path.exists(path_camera_calibration):\n",
    "    os.makedirs(path_camera_calibration)\n",
    "    \n",
    "# check for test images directory\n",
    "if not os.path.exists(path_test_images):\n",
    "    os.makedirs(path_test_images)\n",
    "\n",
    "# check for output images directory\n",
    "if not os.path.exists(path_ouput_images):\n",
    "    os.makedirs(path_ouput_images)"
   ]
  },
  {
   "cell_type": "markdown",
   "metadata": {},
   "source": [
    "## Helper functions"
   ]
  },
  {
   "cell_type": "code",
   "execution_count": 3,
   "metadata": {
    "collapsed": true
   },
   "outputs": [],
   "source": [
    "def get_output_file_path(filename):\n",
    "    '''creates output path for images and returns it'''\n",
    "    return path_ouput_images + filename + '.jpg'\n",
    "\n",
    "def save_output_file(img, filename):\n",
    "    '''saves the image as file'''\n",
    "    mpimg.imsave(get_output_file_path(filename), img)"
   ]
  },
  {
   "cell_type": "markdown",
   "metadata": {},
   "source": [
    "## Pipeline functions"
   ]
  },
  {
   "cell_type": "code",
   "execution_count": 4,
   "metadata": {
    "collapsed": true
   },
   "outputs": [],
   "source": [
    "def calibration_undistort(img, obj_points, img_points):\n",
    "    '''performs the camera calibration, image distortion correction and \n",
    "    returns the undistorted image'''\n",
    "    \n",
    "    # defined image size\n",
    "    img_size = (img.shape[1], img.shape[0])\n",
    "    \n",
    "    # calibrate camera and return parameters \n",
    "    retval, cameraMatrix, distCoeffs, rvecs, tvecs = cv2.calibrateCamera(obj_points, img_points, img_size, None, None)\n",
    "    \n",
    "    # undistrot image based on calibration parameters\n",
    "    undist = cv2.undistort(img, cameraMatrix, distCoeffs, None, cameraMatrix)\n",
    "    \n",
    "    return undist"
   ]
  },
  {
   "cell_type": "markdown",
   "metadata": {},
   "source": [
    "## Camera Calibration"
   ]
  },
  {
   "cell_type": "code",
   "execution_count": 5,
   "metadata": {
    "collapsed": false
   },
   "outputs": [],
   "source": [
    "dimensions = (9,6)\n",
    "\n",
    "# prepare object points, like (0,0,0), (1,0,0), (2,0,0) ....,(6,5,0)\n",
    "obj_p = np.zeros((6*9, 3), np.float32)\n",
    "obj_p[:, :2] = np.mgrid[0:9, 0:6].T.reshape(-1, 2)\n",
    "\n",
    "# Step through the list and search for chessboard corners\n",
    "for fname in images_list:\n",
    "    # Read each image\n",
    "    img = mpimg.imread(fname)\n",
    "    \n",
    "    # Convert image to grayscale\n",
    "    gray = cv2.cvtColor(img, cv2.COLOR_RGB2GRAY)\n",
    "\n",
    "    # Find the chessboard corners\n",
    "    ret, corners = cv2.findChessboardCorners(gray, dimensions, None)\n",
    "\n",
    "    # If corners are found, add object points, image points and image to images array\n",
    "    if ret == True:\n",
    "        obj_points.append(obj_p)\n",
    "        img_points.append(corners)\n",
    "\n",
    "        # Draw and display the corners\n",
    "        img = cv2.drawChessboardCorners(img, dimensions, corners, ret)\n",
    "        chessboard_images.append(img)"
   ]
  },
  {
   "cell_type": "code",
   "execution_count": 6,
   "metadata": {
    "collapsed": true
   },
   "outputs": [],
   "source": [
    "# save output image\n",
    "save_output_file(chessboard_images[0], 'camera_calibration')"
   ]
  },
  {
   "cell_type": "code",
   "execution_count": 7,
   "metadata": {
    "collapsed": true
   },
   "outputs": [],
   "source": [
    "# save points to pickle file for later use\n",
    "dist_pickle['obj_points'] = obj_points\n",
    "dist_pickle['img_points'] = img_points\n",
    "pickle.dump(dist_pickle, open(path_camera_calibration + pickle_file, 'wb'))"
   ]
  },
  {
   "cell_type": "markdown",
   "metadata": {},
   "source": [
    "## Correction for Distortion"
   ]
  },
  {
   "cell_type": "code",
   "execution_count": 8,
   "metadata": {
    "collapsed": false
   },
   "outputs": [],
   "source": [
    "# Read in the saved points and points from pickle file for usage\n",
    "dist_pickle = pickle.load(open(path_camera_calibration + pickle_file, 'rb'))\n",
    "obj_points = dist_pickle['obj_points']\n",
    "img_points = dist_pickle['img_points']"
   ]
  },
  {
   "cell_type": "markdown",
   "metadata": {},
   "source": [
    "### Test calibration and distortion correction"
   ]
  },
  {
   "cell_type": "code",
   "execution_count": 9,
   "metadata": {
    "collapsed": false
   },
   "outputs": [],
   "source": [
    "test_images_list = glob.glob(path_test_images + 'test*.jpg')\n",
    "undistorted_images = []\n",
    "\n",
    "# read in images and append to images\n",
    "for fname in test_images_list:\n",
    "    # Read each image\n",
    "    img = mpimg.imread(fname)\n",
    "    \n",
    "    # Undistort the image\n",
    "    dst = calibration_undistort(img, obj_points, img_points)\n",
    "    \n",
    "    # append to list\n",
    "    undistorted_images.append(dst)"
   ]
  },
  {
   "cell_type": "code",
   "execution_count": 10,
   "metadata": {
    "collapsed": true
   },
   "outputs": [],
   "source": [
    "# save output image\n",
    "save_output_file(undistorted_images[0], 'raw_undistorted')"
   ]
  },
  {
   "cell_type": "markdown",
   "metadata": {},
   "source": [
    "## Read in video and apply pipeline on it"
   ]
  },
  {
   "cell_type": "code",
   "execution_count": null,
   "metadata": {
    "collapsed": true
   },
   "outputs": [],
   "source": []
  }
 ],
 "metadata": {
  "anaconda-cloud": {},
  "kernelspec": {
   "display_name": "Python [conda env:carnd-term1]",
   "language": "python",
   "name": "conda-env-carnd-term1-py"
  },
  "language_info": {
   "codemirror_mode": {
    "name": "ipython",
    "version": 3
   },
   "file_extension": ".py",
   "mimetype": "text/x-python",
   "name": "python",
   "nbconvert_exporter": "python",
   "pygments_lexer": "ipython3",
   "version": "3.5.2"
  }
 },
 "nbformat": 4,
 "nbformat_minor": 1
}
